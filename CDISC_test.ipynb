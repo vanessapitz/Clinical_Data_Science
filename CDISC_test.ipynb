{
 "cells": [
  {
   "cell_type": "markdown",
   "id": "4d17064f",
   "metadata": {},
   "source": [
    "# CDISC by Vanessa Pitz"
   ]
  },
  {
   "cell_type": "code",
   "execution_count": 24,
   "id": "7fed055f",
   "metadata": {
    "vscode": {
     "languageId": "r"
    }
   },
   "outputs": [
    {
     "name": "stdout",
     "output_type": "stream",
     "text": [
      "\n",
      "The downloaded binary packages are in\n",
      "\t/var/folders/y0/lv_642997xxc8l_f86kcsh6h0000gn/T//RtmppZRcgO/downloaded_packages\n",
      "\n",
      "The downloaded binary packages are in\n",
      "\t/var/folders/y0/lv_642997xxc8l_f86kcsh6h0000gn/T//RtmppZRcgO/downloaded_packages\n",
      "\n",
      "The downloaded binary packages are in\n",
      "\t/var/folders/y0/lv_642997xxc8l_f86kcsh6h0000gn/T//RtmppZRcgO/downloaded_packages\n",
      "\n",
      "The downloaded binary packages are in\n",
      "\t/var/folders/y0/lv_642997xxc8l_f86kcsh6h0000gn/T//RtmppZRcgO/downloaded_packages\n",
      "\n",
      "The downloaded binary packages are in\n",
      "\t/var/folders/y0/lv_642997xxc8l_f86kcsh6h0000gn/T//RtmppZRcgO/downloaded_packages\n",
      "\n",
      "The downloaded binary packages are in\n",
      "\t/var/folders/y0/lv_642997xxc8l_f86kcsh6h0000gn/T//RtmppZRcgO/downloaded_packages\n",
      "\n",
      "The downloaded binary packages are in\n",
      "\t/var/folders/y0/lv_642997xxc8l_f86kcsh6h0000gn/T//RtmppZRcgO/downloaded_packages\n"
     ]
    },
    {
     "name": "stderr",
     "output_type": "stream",
     "text": [
      "Downloading GitHub repo pharmaverse/admiral@HEAD\n",
      "\n"
     ]
    },
    {
     "name": "stdout",
     "output_type": "stream",
     "text": [
      "\n",
      "\u001b[36m--\u001b[39m \u001b[36mR CMD build\u001b[39m \u001b[36m-----------------------------------------------------------------\u001b[39m\n",
      "* checking for file '/private/var/folders/y0/lv_642997xxc8l_f86kcsh6h0000gn/T/RtmppZRcgO/remotes17fd63b6c7e6c/pharmaverse-admiral-99d1079/DESCRIPTION' ... OK\n",
      "* preparing 'admiral':\n",
      "* checking DESCRIPTION meta-information ... OK\n",
      "* checking for LF line-endings in source and make files and shell scripts\n",
      "* checking for empty or unneeded directories\n",
      "* building 'admiral_1.3.1.9008.tar.gz'\n",
      "\n"
     ]
    },
    {
     "name": "stderr",
     "output_type": "stream",
     "text": [
      "Skipping install of 'pharmaversesdtm' from a github remote, the SHA1 (eebc9b86) has not changed since last install.\n",
      "  Use `force = TRUE` to force installation\n",
      "\n"
     ]
    }
   ],
   "source": [
    "# Install dependencies\n",
    "install.packages(\"remotes\")\n",
    "install.packages(\"dplyr\")\n",
    "install.packages(\"sdtm.oak\")\n",
    "install.packages(\"lubridate\")\n",
    "install.packages(\"admiral\")\n",
    "install.packages(\"admiral.test\")\n",
    "install.packages(\"ggplot2\")\n",
    "\n",
    "# Install pharmaverse packages\n",
    "remotes::install_github(\"pharmaverse/admiral\")       # ADaM\n",
    "remotes::install_github(\"pharmaverse/pharmaversesdtm\") # Example SDTM datasets\n",
    "\n",
    "# Load them\n",
    "library(dplyr)\n",
    "library(lubridate)\n",
    "library(admiral)       \n",
    "library(admiral.test)\n",
    "library(ggplot2)\n"
   ]
  },
  {
   "cell_type": "code",
   "execution_count": 25,
   "id": "fadf9692",
   "metadata": {
    "vscode": {
     "languageId": "r"
    }
   },
   "outputs": [
    {
     "data": {
      "text/html": [
       "<table class=\"dataframe\">\n",
       "<caption>A tibble: 3 x 8</caption>\n",
       "<thead>\n",
       "\t<tr><th scope=col>subject_id</th><th scope=col>visit_date</th><th scope=col>age</th><th scope=col>gender</th><th scope=col>systolic</th><th scope=col>diastolic</th><th scope=col>adverse_event</th><th scope=col>ae_severity</th></tr>\n",
       "\t<tr><th scope=col>&lt;chr&gt;</th><th scope=col>&lt;date&gt;</th><th scope=col>&lt;dbl&gt;</th><th scope=col>&lt;chr&gt;</th><th scope=col>&lt;dbl&gt;</th><th scope=col>&lt;dbl&gt;</th><th scope=col>&lt;chr&gt;</th><th scope=col>&lt;chr&gt;</th></tr>\n",
       "</thead>\n",
       "<tbody>\n",
       "\t<tr><td>01</td><td>2025-01-01</td><td>45</td><td>M</td><td>120</td><td>80</td><td>Headache</td><td>Mild    </td></tr>\n",
       "\t<tr><td>02</td><td>2025-01-01</td><td>60</td><td>F</td><td>135</td><td>85</td><td>NA      </td><td>NA      </td></tr>\n",
       "\t<tr><td>03</td><td>2025-01-02</td><td>37</td><td>M</td><td>128</td><td>78</td><td>Nausea  </td><td>Moderate</td></tr>\n",
       "</tbody>\n",
       "</table>\n"
      ],
      "text/latex": [
       "A tibble: 3 x 8\n",
       "\\begin{tabular}{llllllll}\n",
       " subject\\_id & visit\\_date & age & gender & systolic & diastolic & adverse\\_event & ae\\_severity\\\\\n",
       " <chr> & <date> & <dbl> & <chr> & <dbl> & <dbl> & <chr> & <chr>\\\\\n",
       "\\hline\n",
       "\t 01 & 2025-01-01 & 45 & M & 120 & 80 & Headache & Mild    \\\\\n",
       "\t 02 & 2025-01-01 & 60 & F & 135 & 85 & NA       & NA      \\\\\n",
       "\t 03 & 2025-01-02 & 37 & M & 128 & 78 & Nausea   & Moderate\\\\\n",
       "\\end{tabular}\n"
      ],
      "text/markdown": [
       "\n",
       "A tibble: 3 x 8\n",
       "\n",
       "| subject_id &lt;chr&gt; | visit_date &lt;date&gt; | age &lt;dbl&gt; | gender &lt;chr&gt; | systolic &lt;dbl&gt; | diastolic &lt;dbl&gt; | adverse_event &lt;chr&gt; | ae_severity &lt;chr&gt; |\n",
       "|---|---|---|---|---|---|---|---|\n",
       "| 01 | 2025-01-01 | 45 | M | 120 | 80 | Headache | Mild     |\n",
       "| 02 | 2025-01-01 | 60 | F | 135 | 85 | NA       | NA       |\n",
       "| 03 | 2025-01-02 | 37 | M | 128 | 78 | Nausea   | Moderate |\n",
       "\n"
      ],
      "text/plain": [
       "  subject_id visit_date age gender systolic diastolic adverse_event ae_severity\n",
       "1 01         2025-01-01 45  M      120      80        Headache      Mild       \n",
       "2 02         2025-01-01 60  F      135      85        NA            NA         \n",
       "3 03         2025-01-02 37  M      128      78        Nausea        Moderate   "
      ]
     },
     "metadata": {},
     "output_type": "display_data"
    }
   ],
   "source": [
    "# Example Raw Data\n",
    "\n",
    "raw_data = tibble(\n",
    "  subject_id = c(\"01\", \"02\", \"03\"),\n",
    "  visit_date = as.Date(c(\"2025-01-01\", \"2025-01-01\", \"2025-01-02\")),\n",
    "  age = c(45, 60, 37),\n",
    "  gender = c(\"M\", \"F\", \"M\"),\n",
    "  systolic = c(120, 135, 128),\n",
    "  diastolic = c(80, 85, 78),\n",
    "  adverse_event = c(\"Headache\", NA, \"Nausea\"),\n",
    "  ae_severity = c(\"Mild\", NA, \"Moderate\"))\n",
    "\n",
    "head(raw_data)"
   ]
  },
  {
   "cell_type": "code",
   "execution_count": 26,
   "id": "c083e727",
   "metadata": {
    "vscode": {
     "languageId": "r"
    }
   },
   "outputs": [
    {
     "data": {
      "text/html": [
       "<table class=\"dataframe\">\n",
       "<caption>A tibble: 3 x 3</caption>\n",
       "<thead>\n",
       "\t<tr><th scope=col>USUBJID</th><th scope=col>AGE</th><th scope=col>SEX</th></tr>\n",
       "\t<tr><th scope=col>&lt;chr&gt;</th><th scope=col>&lt;dbl&gt;</th><th scope=col>&lt;chr&gt;</th></tr>\n",
       "</thead>\n",
       "<tbody>\n",
       "\t<tr><td>01</td><td>45</td><td>M</td></tr>\n",
       "\t<tr><td>02</td><td>60</td><td>F</td></tr>\n",
       "\t<tr><td>03</td><td>37</td><td>M</td></tr>\n",
       "</tbody>\n",
       "</table>\n"
      ],
      "text/latex": [
       "A tibble: 3 x 3\n",
       "\\begin{tabular}{lll}\n",
       " USUBJID & AGE & SEX\\\\\n",
       " <chr> & <dbl> & <chr>\\\\\n",
       "\\hline\n",
       "\t 01 & 45 & M\\\\\n",
       "\t 02 & 60 & F\\\\\n",
       "\t 03 & 37 & M\\\\\n",
       "\\end{tabular}\n"
      ],
      "text/markdown": [
       "\n",
       "A tibble: 3 x 3\n",
       "\n",
       "| USUBJID &lt;chr&gt; | AGE &lt;dbl&gt; | SEX &lt;chr&gt; |\n",
       "|---|---|---|\n",
       "| 01 | 45 | M |\n",
       "| 02 | 60 | F |\n",
       "| 03 | 37 | M |\n",
       "\n"
      ],
      "text/plain": [
       "  USUBJID AGE SEX\n",
       "1 01      45  M  \n",
       "2 02      60  F  \n",
       "3 03      37  M  "
      ]
     },
     "metadata": {},
     "output_type": "display_data"
    },
    {
     "data": {
      "text/html": [
       "<table class=\"dataframe\">\n",
       "<caption>A tibble: 3 x 4</caption>\n",
       "<thead>\n",
       "\t<tr><th scope=col>USUBJID</th><th scope=col>VISITDY</th><th scope=col>SBP</th><th scope=col>DBP</th></tr>\n",
       "\t<tr><th scope=col>&lt;chr&gt;</th><th scope=col>&lt;date&gt;</th><th scope=col>&lt;dbl&gt;</th><th scope=col>&lt;dbl&gt;</th></tr>\n",
       "</thead>\n",
       "<tbody>\n",
       "\t<tr><td>01</td><td>2025-01-01</td><td>120</td><td>80</td></tr>\n",
       "\t<tr><td>02</td><td>2025-01-01</td><td>135</td><td>85</td></tr>\n",
       "\t<tr><td>03</td><td>2025-01-02</td><td>128</td><td>78</td></tr>\n",
       "</tbody>\n",
       "</table>\n"
      ],
      "text/latex": [
       "A tibble: 3 x 4\n",
       "\\begin{tabular}{llll}\n",
       " USUBJID & VISITDY & SBP & DBP\\\\\n",
       " <chr> & <date> & <dbl> & <dbl>\\\\\n",
       "\\hline\n",
       "\t 01 & 2025-01-01 & 120 & 80\\\\\n",
       "\t 02 & 2025-01-01 & 135 & 85\\\\\n",
       "\t 03 & 2025-01-02 & 128 & 78\\\\\n",
       "\\end{tabular}\n"
      ],
      "text/markdown": [
       "\n",
       "A tibble: 3 x 4\n",
       "\n",
       "| USUBJID &lt;chr&gt; | VISITDY &lt;date&gt; | SBP &lt;dbl&gt; | DBP &lt;dbl&gt; |\n",
       "|---|---|---|---|\n",
       "| 01 | 2025-01-01 | 120 | 80 |\n",
       "| 02 | 2025-01-01 | 135 | 85 |\n",
       "| 03 | 2025-01-02 | 128 | 78 |\n",
       "\n"
      ],
      "text/plain": [
       "  USUBJID VISITDY    SBP DBP\n",
       "1 01      2025-01-01 120 80 \n",
       "2 02      2025-01-01 135 85 \n",
       "3 03      2025-01-02 128 78 "
      ]
     },
     "metadata": {},
     "output_type": "display_data"
    },
    {
     "data": {
      "text/html": [
       "<table class=\"dataframe\">\n",
       "<caption>A tibble: 2 x 3</caption>\n",
       "<thead>\n",
       "\t<tr><th scope=col>USUBJID</th><th scope=col>AETERM</th><th scope=col>AESEV</th></tr>\n",
       "\t<tr><th scope=col>&lt;chr&gt;</th><th scope=col>&lt;chr&gt;</th><th scope=col>&lt;chr&gt;</th></tr>\n",
       "</thead>\n",
       "<tbody>\n",
       "\t<tr><td>01</td><td>Headache</td><td>Mild    </td></tr>\n",
       "\t<tr><td>03</td><td>Nausea  </td><td>Moderate</td></tr>\n",
       "</tbody>\n",
       "</table>\n"
      ],
      "text/latex": [
       "A tibble: 2 x 3\n",
       "\\begin{tabular}{lll}\n",
       " USUBJID & AETERM & AESEV\\\\\n",
       " <chr> & <chr> & <chr>\\\\\n",
       "\\hline\n",
       "\t 01 & Headache & Mild    \\\\\n",
       "\t 03 & Nausea   & Moderate\\\\\n",
       "\\end{tabular}\n"
      ],
      "text/markdown": [
       "\n",
       "A tibble: 2 x 3\n",
       "\n",
       "| USUBJID &lt;chr&gt; | AETERM &lt;chr&gt; | AESEV &lt;chr&gt; |\n",
       "|---|---|---|\n",
       "| 01 | Headache | Mild     |\n",
       "| 03 | Nausea   | Moderate |\n",
       "\n"
      ],
      "text/plain": [
       "  USUBJID AETERM   AESEV   \n",
       "1 01      Headache Mild    \n",
       "2 03      Nausea   Moderate"
      ]
     },
     "metadata": {},
     "output_type": "display_data"
    }
   ],
   "source": [
    "# Build SDTM data\n",
    "\n",
    "sdtm_dm = raw_data %>%\n",
    "  select(subject_id, age, gender) %>%\n",
    "  rename(USUBJID = subject_id,\n",
    "    AGE = age,\n",
    "    SEX = gender)\n",
    "\n",
    "head(sdtm_dm)\n",
    "\n",
    "sdtm_vs = raw_data %>%\n",
    "  select(subject_id, visit_date, systolic, diastolic) %>%\n",
    "  rename(USUBJID = subject_id,\n",
    "    VISITDY = visit_date,\n",
    "    SBP = systolic,\n",
    "    DBP = diastolic)\n",
    "\n",
    "head(sdtm_vs)\n",
    "\n",
    "sdtm_ae = raw_data %>%\n",
    "  filter(!is.na(adverse_event)) %>%\n",
    "  select(subject_id, adverse_event, ae_severity) %>%\n",
    "  rename( USUBJID = subject_id,\n",
    "      AETERM = adverse_event,\n",
    "      AESEV = ae_severity)\n",
    "head(sdtm_ae)"
   ]
  },
  {
   "cell_type": "code",
   "execution_count": 27,
   "id": "6873e666",
   "metadata": {
    "vscode": {
     "languageId": "r"
    }
   },
   "outputs": [
    {
     "data": {
      "text/html": [
       "<table class=\"dataframe\">\n",
       "<caption>A tibble: 3 x 5</caption>\n",
       "<thead>\n",
       "\t<tr><th scope=col>USUBJID</th><th scope=col>AGE</th><th scope=col>SEX</th><th scope=col>TRTSDT</th><th scope=col>TRTEDT</th></tr>\n",
       "\t<tr><th scope=col>&lt;chr&gt;</th><th scope=col>&lt;dbl&gt;</th><th scope=col>&lt;chr&gt;</th><th scope=col>&lt;date&gt;</th><th scope=col>&lt;date&gt;</th></tr>\n",
       "</thead>\n",
       "<tbody>\n",
       "\t<tr><td>01</td><td>45</td><td>M</td><td>2025-01-01</td><td>2025-01-10</td></tr>\n",
       "\t<tr><td>02</td><td>60</td><td>F</td><td>2025-01-01</td><td>2025-01-10</td></tr>\n",
       "\t<tr><td>03</td><td>37</td><td>M</td><td>2025-01-01</td><td>2025-01-10</td></tr>\n",
       "</tbody>\n",
       "</table>\n"
      ],
      "text/latex": [
       "A tibble: 3 x 5\n",
       "\\begin{tabular}{lllll}\n",
       " USUBJID & AGE & SEX & TRTSDT & TRTEDT\\\\\n",
       " <chr> & <dbl> & <chr> & <date> & <date>\\\\\n",
       "\\hline\n",
       "\t 01 & 45 & M & 2025-01-01 & 2025-01-10\\\\\n",
       "\t 02 & 60 & F & 2025-01-01 & 2025-01-10\\\\\n",
       "\t 03 & 37 & M & 2025-01-01 & 2025-01-10\\\\\n",
       "\\end{tabular}\n"
      ],
      "text/markdown": [
       "\n",
       "A tibble: 3 x 5\n",
       "\n",
       "| USUBJID &lt;chr&gt; | AGE &lt;dbl&gt; | SEX &lt;chr&gt; | TRTSDT &lt;date&gt; | TRTEDT &lt;date&gt; |\n",
       "|---|---|---|---|---|\n",
       "| 01 | 45 | M | 2025-01-01 | 2025-01-10 |\n",
       "| 02 | 60 | F | 2025-01-01 | 2025-01-10 |\n",
       "| 03 | 37 | M | 2025-01-01 | 2025-01-10 |\n",
       "\n"
      ],
      "text/plain": [
       "  USUBJID AGE SEX TRTSDT     TRTEDT    \n",
       "1 01      45  M   2025-01-01 2025-01-10\n",
       "2 02      60  F   2025-01-01 2025-01-10\n",
       "3 03      37  M   2025-01-01 2025-01-10"
      ]
     },
     "metadata": {},
     "output_type": "display_data"
    },
    {
     "data": {
      "text/html": [
       "<table class=\"dataframe\">\n",
       "<caption>A tibble: 3 x 8</caption>\n",
       "<thead>\n",
       "\t<tr><th scope=col>USUBJID</th><th scope=col>VISITDY</th><th scope=col>SBP</th><th scope=col>DBP</th><th scope=col>PARAM</th><th scope=col>PARAMCD</th><th scope=col>AVISIT</th><th scope=col>CHG</th></tr>\n",
       "\t<tr><th scope=col>&lt;chr&gt;</th><th scope=col>&lt;date&gt;</th><th scope=col>&lt;dbl&gt;</th><th scope=col>&lt;dbl&gt;</th><th scope=col>&lt;chr&gt;</th><th scope=col>&lt;chr&gt;</th><th scope=col>&lt;chr&gt;</th><th scope=col>&lt;dbl&gt;</th></tr>\n",
       "</thead>\n",
       "<tbody>\n",
       "\t<tr><td>01</td><td>2025-01-01</td><td>120</td><td>80</td><td>Blood Pressure</td><td>BP</td><td>Baseline</td><td> 0</td></tr>\n",
       "\t<tr><td>02</td><td>2025-01-01</td><td>135</td><td>85</td><td>Blood Pressure</td><td>BP</td><td>Baseline</td><td>15</td></tr>\n",
       "\t<tr><td>03</td><td>2025-01-02</td><td>128</td><td>78</td><td>Blood Pressure</td><td>BP</td><td>Baseline</td><td> 8</td></tr>\n",
       "</tbody>\n",
       "</table>\n"
      ],
      "text/latex": [
       "A tibble: 3 x 8\n",
       "\\begin{tabular}{llllllll}\n",
       " USUBJID & VISITDY & SBP & DBP & PARAM & PARAMCD & AVISIT & CHG\\\\\n",
       " <chr> & <date> & <dbl> & <dbl> & <chr> & <chr> & <chr> & <dbl>\\\\\n",
       "\\hline\n",
       "\t 01 & 2025-01-01 & 120 & 80 & Blood Pressure & BP & Baseline &  0\\\\\n",
       "\t 02 & 2025-01-01 & 135 & 85 & Blood Pressure & BP & Baseline & 15\\\\\n",
       "\t 03 & 2025-01-02 & 128 & 78 & Blood Pressure & BP & Baseline &  8\\\\\n",
       "\\end{tabular}\n"
      ],
      "text/markdown": [
       "\n",
       "A tibble: 3 x 8\n",
       "\n",
       "| USUBJID &lt;chr&gt; | VISITDY &lt;date&gt; | SBP &lt;dbl&gt; | DBP &lt;dbl&gt; | PARAM &lt;chr&gt; | PARAMCD &lt;chr&gt; | AVISIT &lt;chr&gt; | CHG &lt;dbl&gt; |\n",
       "|---|---|---|---|---|---|---|---|\n",
       "| 01 | 2025-01-01 | 120 | 80 | Blood Pressure | BP | Baseline |  0 |\n",
       "| 02 | 2025-01-01 | 135 | 85 | Blood Pressure | BP | Baseline | 15 |\n",
       "| 03 | 2025-01-02 | 128 | 78 | Blood Pressure | BP | Baseline |  8 |\n",
       "\n"
      ],
      "text/plain": [
       "  USUBJID VISITDY    SBP DBP PARAM          PARAMCD AVISIT   CHG\n",
       "1 01      2025-01-01 120 80  Blood Pressure BP      Baseline  0 \n",
       "2 02      2025-01-01 135 85  Blood Pressure BP      Baseline 15 \n",
       "3 03      2025-01-02 128 78  Blood Pressure BP      Baseline  8 "
      ]
     },
     "metadata": {},
     "output_type": "display_data"
    }
   ],
   "source": [
    "# Example ADaM\n",
    "\n",
    "## subject-level example\n",
    "adsl = sdtm_dm %>%\n",
    "mutate( TRTSDT = as.Date(\"2025-01-01\"),  # treatment start\n",
    "        TRTEDT = as.Date(\"2025-01-10\"))  # treatment end\n",
    "\n",
    "head(adsl)\n",
    "\n",
    "## vital signs example BDS\n",
    "adam_vs = sdtm_vs %>% \n",
    "mutate( PARAM = \"Blood Pressure\",\n",
    "        PARAMCD = \"BP\",\n",
    "        AVISIT = \"Baseline\",\n",
    "        CHG = SBP - 120)   # Example: difference from 120\n",
    "\n",
    "head(adam_vs)"
   ]
  },
  {
   "cell_type": "code",
   "execution_count": 28,
   "id": "f5c25299",
   "metadata": {
    "vscode": {
     "languageId": "r"
    }
   },
   "outputs": [
    {
     "data": {
      "image/png": "[encoded data removed]",
      "text/plain": [
       "plot without title"
      ]
     },
     "metadata": {
      "image/png": {
       "height": 420,
       "width": 420
      }
     },
     "output_type": "display_data"
    }
   ],
   "source": [
    "# visualizations - not enough data points..\n",
    "ggplot(adam_vs, aes(x = USUBJID, y = SBP)) +\n",
    "  geom_boxplot(fill = \"lightblue\", outlier.color = \"red\", outlier.shape = 16) +\n",
    "  geom_jitter(aes(color = CHG), width = 0.1, size = 3) +  # einzelne Werte\n",
    "  scale_color_gradient2(low = \"blue\", mid = \"white\", high = \"red\", midpoint = 0) +\n",
    "  labs(title = \"Systolic Blood Pressure by Subject\",\n",
    "    subtitle = \"With individual values colored by change from baseline\",\n",
    "    x = \"Subject ID\",\n",
    "    y = \"SBP (mmHg)\",\n",
    "    color = \"Change from Baseline\") +\n",
    "  theme_minimal(base_size = 14) +\n",
    "  theme(plot.title = element_text(hjust = 0.5, face = \"bold\"),\n",
    "    plot.subtitle = element_text(hjust = 0.5))\n"
   ]
  },
  {
   "cell_type": "code",
   "execution_count": 29,
   "id": "f0eaf2fb",
   "metadata": {
    "vscode": {
     "languageId": "r"
    }
   },
   "outputs": [
    {
     "data": {
      "text/html": [
       "<table class=\"dataframe\">\n",
       "<caption>A tibble: 1 x 6</caption>\n",
       "<thead>\n",
       "\t<tr><th scope=col>N</th><th scope=col>SBP_Mean</th><th scope=col>SBP_SD</th><th scope=col>DBP_Mean</th><th scope=col>DBP_SD</th><th scope=col>CHG_Mean</th></tr>\n",
       "\t<tr><th scope=col>&lt;int&gt;</th><th scope=col>&lt;dbl&gt;</th><th scope=col>&lt;dbl&gt;</th><th scope=col>&lt;dbl&gt;</th><th scope=col>&lt;dbl&gt;</th><th scope=col>&lt;dbl&gt;</th></tr>\n",
       "</thead>\n",
       "<tbody>\n",
       "\t<tr><td>3</td><td>127.7</td><td>7.5</td><td>81</td><td>3.6</td><td>7.7</td></tr>\n",
       "</tbody>\n",
       "</table>\n"
      ],
      "text/latex": [
       "A tibble: 1 x 6\n",
       "\\begin{tabular}{llllll}\n",
       " N & SBP\\_Mean & SBP\\_SD & DBP\\_Mean & DBP\\_SD & CHG\\_Mean\\\\\n",
       " <int> & <dbl> & <dbl> & <dbl> & <dbl> & <dbl>\\\\\n",
       "\\hline\n",
       "\t 3 & 127.7 & 7.5 & 81 & 3.6 & 7.7\\\\\n",
       "\\end{tabular}\n"
      ],
      "text/markdown": [
       "\n",
       "A tibble: 1 x 6\n",
       "\n",
       "| N &lt;int&gt; | SBP_Mean &lt;dbl&gt; | SBP_SD &lt;dbl&gt; | DBP_Mean &lt;dbl&gt; | DBP_SD &lt;dbl&gt; | CHG_Mean &lt;dbl&gt; |\n",
       "|---|---|---|---|---|---|\n",
       "| 3 | 127.7 | 7.5 | 81 | 3.6 | 7.7 |\n",
       "\n"
      ],
      "text/plain": [
       "  N SBP_Mean SBP_SD DBP_Mean DBP_SD CHG_Mean\n",
       "1 3 127.7    7.5    81       3.6    7.7     "
      ]
     },
     "metadata": {},
     "output_type": "display_data"
    }
   ],
   "source": [
    "table_vs = adam_vs %>%\n",
    "  summarise(\n",
    "    N = n(),\n",
    "    SBP_Mean = round(mean(SBP, na.rm = TRUE), 1),\n",
    "    SBP_SD   = round(sd(SBP, na.rm = TRUE), 1),\n",
    "    DBP_Mean = round(mean(DBP, na.rm = TRUE), 1),\n",
    "    DBP_SD   = round(sd(DBP, na.rm = TRUE), 1),\n",
    "    CHG_Mean = round(mean(CHG, na.rm = TRUE), 1)\n",
    "  )\n",
    "\n",
    "table_vs"
   ]
  },
  {
   "cell_type": "code",
   "execution_count": null,
   "id": "098e3789",
   "metadata": {
    "vscode": {
     "languageId": "r"
    }
   },
   "outputs": [],
   "source": []
  },
  {
   "cell_type": "raw",
   "id": "c64bbcb4",
   "metadata": {
    "vscode": {
     "languageId": "raw"
    }
   },
   "source": [
    "# more toy data from pharmaverse"
   ]
  },
  {
   "cell_type": "code",
   "execution_count": null,
   "id": "0c94cfcc",
   "metadata": {
    "vscode": {
     "languageId": "r"
    }
   },
   "outputs": [
    {
     "data": {
      "text/html": [
       "<table class=\"dataframe\">\n",
       "<caption>A tibble: 6 x 25</caption>\n",
       "<thead>\n",
       "\t<tr><th scope=col>STUDYID</th><th scope=col>DOMAIN</th><th scope=col>USUBJID</th><th scope=col>SUBJID</th><th scope=col>RFSTDTC</th><th scope=col>RFENDTC</th><th scope=col>RFXSTDTC</th><th scope=col>RFXENDTC</th><th scope=col>RFICDTC</th><th scope=col>RFPENDTC</th><th scope=col>...</th><th scope=col>SEX</th><th scope=col>RACE</th><th scope=col>ETHNIC</th><th scope=col>ARMCD</th><th scope=col>ARM</th><th scope=col>ACTARMCD</th><th scope=col>ACTARM</th><th scope=col>COUNTRY</th><th scope=col>DMDTC</th><th scope=col>DMDY</th></tr>\n",
       "\t<tr><th scope=col>&lt;chr&gt;</th><th scope=col>&lt;chr&gt;</th><th scope=col>&lt;chr&gt;</th><th scope=col>&lt;chr&gt;</th><th scope=col>&lt;chr&gt;</th><th scope=col>&lt;chr&gt;</th><th scope=col>&lt;chr&gt;</th><th scope=col>&lt;chr&gt;</th><th scope=col>&lt;chr&gt;</th><th scope=col>&lt;chr&gt;</th><th scope=col>...</th><th scope=col>&lt;chr&gt;</th><th scope=col>&lt;chr&gt;</th><th scope=col>&lt;chr&gt;</th><th scope=col>&lt;chr&gt;</th><th scope=col>&lt;chr&gt;</th><th scope=col>&lt;chr&gt;</th><th scope=col>&lt;chr&gt;</th><th scope=col>&lt;chr&gt;</th><th scope=col>&lt;chr&gt;</th><th scope=col>&lt;dbl&gt;</th></tr>\n",
       "</thead>\n",
       "<tbody>\n",
       "\t<tr><td>CDISCPILOT01</td><td>DM</td><td>01-701-1015</td><td>1015</td><td>2014-01-02</td><td>2014-07-02</td><td>2014-01-02</td><td>2014-07-02</td><td>NA</td><td>2014-07-02T11:45</td><td>...</td><td>F</td><td>WHITE</td><td>HISPANIC OR LATINO    </td><td>Pbo   </td><td>Placebo             </td><td>Pbo   </td><td>Placebo             </td><td>USA</td><td>2013-12-26</td><td> -7</td></tr>\n",
       "\t<tr><td>CDISCPILOT01</td><td>DM</td><td>01-701-1023</td><td>1023</td><td>2012-08-05</td><td>2012-09-02</td><td>2012-08-05</td><td>2012-09-01</td><td>NA</td><td>2013-02-18      </td><td>...</td><td>M</td><td>WHITE</td><td>HISPANIC OR LATINO    </td><td>Pbo   </td><td>Placebo             </td><td>Pbo   </td><td>Placebo             </td><td>USA</td><td>2012-07-22</td><td>-14</td></tr>\n",
       "\t<tr><td>CDISCPILOT01</td><td>DM</td><td>01-701-1028</td><td>1028</td><td>2013-07-19</td><td>2014-01-14</td><td>2013-07-19</td><td>2014-01-14</td><td>NA</td><td>2014-01-14T11:10</td><td>...</td><td>M</td><td>WHITE</td><td>NOT HISPANIC OR LATINO</td><td>Xan_Hi</td><td>Xanomeline High Dose</td><td>Xan_Hi</td><td>Xanomeline High Dose</td><td>USA</td><td>2013-07-11</td><td> -8</td></tr>\n",
       "\t<tr><td>CDISCPILOT01</td><td>DM</td><td>01-701-1033</td><td>1033</td><td>2014-03-18</td><td>2014-04-14</td><td>2014-03-18</td><td>2014-03-31</td><td>NA</td><td>2014-09-15      </td><td>...</td><td>M</td><td>WHITE</td><td>NOT HISPANIC OR LATINO</td><td>Xan_Lo</td><td>Xanomeline Low Dose </td><td>Xan_Lo</td><td>Xanomeline Low Dose </td><td>USA</td><td>2014-03-10</td><td> -8</td></tr>\n",
       "\t<tr><td>CDISCPILOT01</td><td>DM</td><td>01-701-1034</td><td>1034</td><td>2014-07-01</td><td>2014-12-30</td><td>2014-07-01</td><td>2014-12-30</td><td>NA</td><td>2014-12-30T09:50</td><td>...</td><td>F</td><td>WHITE</td><td>NOT HISPANIC OR LATINO</td><td>Xan_Hi</td><td>Xanomeline High Dose</td><td>Xan_Hi</td><td>Xanomeline High Dose</td><td>USA</td><td>2014-06-24</td><td> -7</td></tr>\n",
       "\t<tr><td>CDISCPILOT01</td><td>DM</td><td>01-701-1047</td><td>1047</td><td>2013-02-12</td><td>2013-03-29</td><td>2013-02-12</td><td>2013-03-09</td><td>NA</td><td>2013-07-28      </td><td>...</td><td>F</td><td>WHITE</td><td>NOT HISPANIC OR LATINO</td><td>Pbo   </td><td>Placebo             </td><td>Pbo   </td><td>Placebo             </td><td>USA</td><td>2013-01-22</td><td>-21</td></tr>\n",
       "</tbody>\n",
       "</table>\n"
      ],
      "text/latex": [
       "A tibble: 6 x 25\n",
       "\\begin{tabular}{lllllllllllllllllllll}\n",
       " STUDYID & DOMAIN & USUBJID & SUBJID & RFSTDTC & RFENDTC & RFXSTDTC & RFXENDTC & RFICDTC & RFPENDTC & ... & SEX & RACE & ETHNIC & ARMCD & ARM & ACTARMCD & ACTARM & COUNTRY & DMDTC & DMDY\\\\\n",
       " <chr> & <chr> & <chr> & <chr> & <chr> & <chr> & <chr> & <chr> & <chr> & <chr> & ... & <chr> & <chr> & <chr> & <chr> & <chr> & <chr> & <chr> & <chr> & <chr> & <dbl>\\\\\n",
       "\\hline\n",
       "\t CDISCPILOT01 & DM & 01-701-1015 & 1015 & 2014-01-02 & 2014-07-02 & 2014-01-02 & 2014-07-02 & NA & 2014-07-02T11:45 & ... & F & WHITE & HISPANIC OR LATINO     & Pbo    & Placebo              & Pbo    & Placebo              & USA & 2013-12-26 &  -7\\\\\n",
       "\t CDISCPILOT01 & DM & 01-701-1023 & 1023 & 2012-08-05 & 2012-09-02 & 2012-08-05 & 2012-09-01 & NA & 2013-02-18       & ... & M & WHITE & HISPANIC OR LATINO     & Pbo    & Placebo              & Pbo    & Placebo              & USA & 2012-07-22 & -14\\\\\n",
       "\t CDISCPILOT01 & DM & 01-701-1028 & 1028 & 2013-07-19 & 2014-01-14 & 2013-07-19 & 2014-01-14 & NA & 2014-01-14T11:10 & ... & M & WHITE & NOT HISPANIC OR LATINO & Xan\\_Hi & Xanomeline High Dose & Xan\\_Hi & Xanomeline High Dose & USA & 2013-07-11 &  -8\\\\\n",
       "\t CDISCPILOT01 & DM & 01-701-1033 & 1033 & 2014-03-18 & 2014-04-14 & 2014-03-18 & 2014-03-31 & NA & 2014-09-15       & ... & M & WHITE & NOT HISPANIC OR LATINO & Xan\\_Lo & Xanomeline Low Dose  & Xan\\_Lo & Xanomeline Low Dose  & USA & 2014-03-10 &  -8\\\\\n",
       "\t CDISCPILOT01 & DM & 01-701-1034 & 1034 & 2014-07-01 & 2014-12-30 & 2014-07-01 & 2014-12-30 & NA & 2014-12-30T09:50 & ... & F & WHITE & NOT HISPANIC OR LATINO & Xan\\_Hi & Xanomeline High Dose & Xan\\_Hi & Xanomeline High Dose & USA & 2014-06-24 &  -7\\\\\n",
       "\t CDISCPILOT01 & DM & 01-701-1047 & 1047 & 2013-02-12 & 2013-03-29 & 2013-02-12 & 2013-03-09 & NA & 2013-07-28       & ... & F & WHITE & NOT HISPANIC OR LATINO & Pbo    & Placebo              & Pbo    & Placebo              & USA & 2013-01-22 & -21\\\\\n",
       "\\end{tabular}\n"
      ],
      "text/markdown": [
       "\n",
       "A tibble: 6 x 25\n",
       "\n",
       "| STUDYID &lt;chr&gt; | DOMAIN &lt;chr&gt; | USUBJID &lt;chr&gt; | SUBJID &lt;chr&gt; | RFSTDTC &lt;chr&gt; | RFENDTC &lt;chr&gt; | RFXSTDTC &lt;chr&gt; | RFXENDTC &lt;chr&gt; | RFICDTC &lt;chr&gt; | RFPENDTC &lt;chr&gt; | ... ... | SEX &lt;chr&gt; | RACE &lt;chr&gt; | ETHNIC &lt;chr&gt; | ARMCD &lt;chr&gt; | ARM &lt;chr&gt; | ACTARMCD &lt;chr&gt; | ACTARM &lt;chr&gt; | COUNTRY &lt;chr&gt; | DMDTC &lt;chr&gt; | DMDY &lt;dbl&gt; |\n",
       "|---|---|---|---|---|---|---|---|---|---|---|---|---|---|---|---|---|---|---|---|---|\n",
       "| CDISCPILOT01 | DM | 01-701-1015 | 1015 | 2014-01-02 | 2014-07-02 | 2014-01-02 | 2014-07-02 | NA | 2014-07-02T11:45 | ... | F | WHITE | HISPANIC OR LATINO     | Pbo    | Placebo              | Pbo    | Placebo              | USA | 2013-12-26 |  -7 |\n",
       "| CDISCPILOT01 | DM | 01-701-1023 | 1023 | 2012-08-05 | 2012-09-02 | 2012-08-05 | 2012-09-01 | NA | 2013-02-18       | ... | M | WHITE | HISPANIC OR LATINO     | Pbo    | Placebo              | Pbo    | Placebo              | USA | 2012-07-22 | -14 |\n",
       "| CDISCPILOT01 | DM | 01-701-1028 | 1028 | 2013-07-19 | 2014-01-14 | 2013-07-19 | 2014-01-14 | NA | 2014-01-14T11:10 | ... | M | WHITE | NOT HISPANIC OR LATINO | Xan_Hi | Xanomeline High Dose | Xan_Hi | Xanomeline High Dose | USA | 2013-07-11 |  -8 |\n",
       "| CDISCPILOT01 | DM | 01-701-1033 | 1033 | 2014-03-18 | 2014-04-14 | 2014-03-18 | 2014-03-31 | NA | 2014-09-15       | ... | M | WHITE | NOT HISPANIC OR LATINO | Xan_Lo | Xanomeline Low Dose  | Xan_Lo | Xanomeline Low Dose  | USA | 2014-03-10 |  -8 |\n",
       "| CDISCPILOT01 | DM | 01-701-1034 | 1034 | 2014-07-01 | 2014-12-30 | 2014-07-01 | 2014-12-30 | NA | 2014-12-30T09:50 | ... | F | WHITE | NOT HISPANIC OR LATINO | Xan_Hi | Xanomeline High Dose | Xan_Hi | Xanomeline High Dose | USA | 2014-06-24 |  -7 |\n",
       "| CDISCPILOT01 | DM | 01-701-1047 | 1047 | 2013-02-12 | 2013-03-29 | 2013-02-12 | 2013-03-09 | NA | 2013-07-28       | ... | F | WHITE | NOT HISPANIC OR LATINO | Pbo    | Placebo              | Pbo    | Placebo              | USA | 2013-01-22 | -21 |\n",
       "\n"
      ],
      "text/plain": [
       "  STUDYID      DOMAIN USUBJID     SUBJID RFSTDTC    RFENDTC    RFXSTDTC  \n",
       "1 CDISCPILOT01 DM     01-701-1015 1015   2014-01-02 2014-07-02 2014-01-02\n",
       "2 CDISCPILOT01 DM     01-701-1023 1023   2012-08-05 2012-09-02 2012-08-05\n",
       "3 CDISCPILOT01 DM     01-701-1028 1028   2013-07-19 2014-01-14 2013-07-19\n",
       "4 CDISCPILOT01 DM     01-701-1033 1033   2014-03-18 2014-04-14 2014-03-18\n",
       "5 CDISCPILOT01 DM     01-701-1034 1034   2014-07-01 2014-12-30 2014-07-01\n",
       "6 CDISCPILOT01 DM     01-701-1047 1047   2013-02-12 2013-03-29 2013-02-12\n",
       "  RFXENDTC   RFICDTC RFPENDTC         ... SEX RACE  ETHNIC                \n",
       "1 2014-07-02 NA      2014-07-02T11:45 ... F   WHITE HISPANIC OR LATINO    \n",
       "2 2012-09-01 NA      2013-02-18       ... M   WHITE HISPANIC OR LATINO    \n",
       "3 2014-01-14 NA      2014-01-14T11:10 ... M   WHITE NOT HISPANIC OR LATINO\n",
       "4 2014-03-31 NA      2014-09-15       ... M   WHITE NOT HISPANIC OR LATINO\n",
       "5 2014-12-30 NA      2014-12-30T09:50 ... F   WHITE NOT HISPANIC OR LATINO\n",
       "6 2013-03-09 NA      2013-07-28       ... F   WHITE NOT HISPANIC OR LATINO\n",
       "  ARMCD  ARM                  ACTARMCD ACTARM               COUNTRY DMDTC     \n",
       "1 Pbo    Placebo              Pbo      Placebo              USA     2013-12-26\n",
       "2 Pbo    Placebo              Pbo      Placebo              USA     2012-07-22\n",
       "3 Xan_Hi Xanomeline High Dose Xan_Hi   Xanomeline High Dose USA     2013-07-11\n",
       "4 Xan_Lo Xanomeline Low Dose  Xan_Lo   Xanomeline Low Dose  USA     2014-03-10\n",
       "5 Xan_Hi Xanomeline High Dose Xan_Hi   Xanomeline High Dose USA     2014-06-24\n",
       "6 Pbo    Placebo              Pbo      Placebo              USA     2013-01-22\n",
       "  DMDY\n",
       "1  -7 \n",
       "2 -14 \n",
       "3  -8 \n",
       "4  -8 \n",
       "5  -7 \n",
       "6 -21 "
      ]
     },
     "metadata": {},
     "output_type": "display_data"
    },
    {
     "data": {
      "text/html": [
       "<table class=\"dataframe\">\n",
       "<caption>A tibble: 6 x 35</caption>\n",
       "<thead>\n",
       "\t<tr><th scope=col>STUDYID</th><th scope=col>DOMAIN</th><th scope=col>USUBJID</th><th scope=col>AESEQ</th><th scope=col>AESPID</th><th scope=col>AETERM</th><th scope=col>AELLT</th><th scope=col>AELLTCD</th><th scope=col>AEDECOD</th><th scope=col>AEPTCD</th><th scope=col>...</th><th scope=col>AESDISAB</th><th scope=col>AESDTH</th><th scope=col>AESHOSP</th><th scope=col>AESLIFE</th><th scope=col>AESOD</th><th scope=col>AEDTC</th><th scope=col>AESTDTC</th><th scope=col>AEENDTC</th><th scope=col>AESTDY</th><th scope=col>AEENDY</th></tr>\n",
       "\t<tr><th scope=col>&lt;chr&gt;</th><th scope=col>&lt;chr&gt;</th><th scope=col>&lt;chr&gt;</th><th scope=col>&lt;dbl&gt;</th><th scope=col>&lt;chr&gt;</th><th scope=col>&lt;chr&gt;</th><th scope=col>&lt;chr&gt;</th><th scope=col>&lt;dbl&gt;</th><th scope=col>&lt;chr&gt;</th><th scope=col>&lt;dbl&gt;</th><th scope=col>...</th><th scope=col>&lt;chr&gt;</th><th scope=col>&lt;chr&gt;</th><th scope=col>&lt;chr&gt;</th><th scope=col>&lt;chr&gt;</th><th scope=col>&lt;chr&gt;</th><th scope=col>&lt;chr&gt;</th><th scope=col>&lt;chr&gt;</th><th scope=col>&lt;chr&gt;</th><th scope=col>&lt;dbl&gt;</th><th scope=col>&lt;dbl&gt;</th></tr>\n",
       "</thead>\n",
       "<tbody>\n",
       "\t<tr><td>CDISCPILOT01</td><td>AE</td><td>01-701-1015</td><td>1</td><td>E07</td><td>APPLICATION SITE ERYTHEMA           </td><td>APPLICATION SITE REDNESS</td><td>NA</td><td>APPLICATION SITE ERYTHEMA           </td><td>NA</td><td>...</td><td>N</td><td>N</td><td>N</td><td>N</td><td>N</td><td>2014-01-16</td><td>2014-01-03</td><td>NA        </td><td> 2</td><td>NA</td></tr>\n",
       "\t<tr><td>CDISCPILOT01</td><td>AE</td><td>01-701-1015</td><td>2</td><td>E08</td><td>APPLICATION SITE PRURITUS           </td><td>APPLICATION SITE ITCHING</td><td>NA</td><td>APPLICATION SITE PRURITUS           </td><td>NA</td><td>...</td><td>N</td><td>N</td><td>N</td><td>N</td><td>N</td><td>2014-01-16</td><td>2014-01-03</td><td>NA        </td><td> 2</td><td>NA</td></tr>\n",
       "\t<tr><td>CDISCPILOT01</td><td>AE</td><td>01-701-1015</td><td>3</td><td>E06</td><td>DIARRHOEA                           </td><td>DIARRHEA                </td><td>NA</td><td>DIARRHOEA                           </td><td>NA</td><td>...</td><td>N</td><td>N</td><td>N</td><td>N</td><td>N</td><td>2014-01-16</td><td>2014-01-09</td><td>2014-01-11</td><td> 8</td><td>10</td></tr>\n",
       "\t<tr><td>CDISCPILOT01</td><td>AE</td><td>01-701-1023</td><td>3</td><td>E10</td><td>ATRIOVENTRICULAR BLOCK SECOND DEGREE</td><td>AV BLOCK SECOND DEGREE  </td><td>NA</td><td>ATRIOVENTRICULAR BLOCK SECOND DEGREE</td><td>NA</td><td>...</td><td>N</td><td>N</td><td>N</td><td>N</td><td>N</td><td>2012-08-27</td><td>2012-08-26</td><td>NA        </td><td>22</td><td>NA</td></tr>\n",
       "\t<tr><td>CDISCPILOT01</td><td>AE</td><td>01-701-1023</td><td>1</td><td>E08</td><td>ERYTHEMA                            </td><td>ERYTHEMA                </td><td>NA</td><td>ERYTHEMA                            </td><td>NA</td><td>...</td><td>N</td><td>N</td><td>N</td><td>N</td><td>N</td><td>2012-08-27</td><td>2012-08-07</td><td>2012-08-30</td><td> 3</td><td>26</td></tr>\n",
       "\t<tr><td>CDISCPILOT01</td><td>AE</td><td>01-701-1023</td><td>2</td><td>E09</td><td>ERYTHEMA                            </td><td>LOCALIZED ERYTHEMA      </td><td>NA</td><td>ERYTHEMA                            </td><td>NA</td><td>...</td><td>N</td><td>N</td><td>N</td><td>N</td><td>N</td><td>2012-08-27</td><td>2012-08-07</td><td>NA        </td><td> 3</td><td>NA</td></tr>\n",
       "</tbody>\n",
       "</table>\n"
      ],
      "text/latex": [
       "A tibble: 6 x 35\n",
       "\\begin{tabular}{lllllllllllllllllllll}\n",
       " STUDYID & DOMAIN & USUBJID & AESEQ & AESPID & AETERM & AELLT & AELLTCD & AEDECOD & AEPTCD & ... & AESDISAB & AESDTH & AESHOSP & AESLIFE & AESOD & AEDTC & AESTDTC & AEENDTC & AESTDY & AEENDY\\\\\n",
       " <chr> & <chr> & <chr> & <dbl> & <chr> & <chr> & <chr> & <dbl> & <chr> & <dbl> & ... & <chr> & <chr> & <chr> & <chr> & <chr> & <chr> & <chr> & <chr> & <dbl> & <dbl>\\\\\n",
       "\\hline\n",
       "\t CDISCPILOT01 & AE & 01-701-1015 & 1 & E07 & APPLICATION SITE ERYTHEMA            & APPLICATION SITE REDNESS & NA & APPLICATION SITE ERYTHEMA            & NA & ... & N & N & N & N & N & 2014-01-16 & 2014-01-03 & NA         &  2 & NA\\\\\n",
       "\t CDISCPILOT01 & AE & 01-701-1015 & 2 & E08 & APPLICATION SITE PRURITUS            & APPLICATION SITE ITCHING & NA & APPLICATION SITE PRURITUS            & NA & ... & N & N & N & N & N & 2014-01-16 & 2014-01-03 & NA         &  2 & NA\\\\\n",
       "\t CDISCPILOT01 & AE & 01-701-1015 & 3 & E06 & DIARRHOEA                            & DIARRHEA                 & NA & DIARRHOEA                            & NA & ... & N & N & N & N & N & 2014-01-16 & 2014-01-09 & 2014-01-11 &  8 & 10\\\\\n",
       "\t CDISCPILOT01 & AE & 01-701-1023 & 3 & E10 & ATRIOVENTRICULAR BLOCK SECOND DEGREE & AV BLOCK SECOND DEGREE   & NA & ATRIOVENTRICULAR BLOCK SECOND DEGREE & NA & ... & N & N & N & N & N & 2012-08-27 & 2012-08-26 & NA         & 22 & NA\\\\\n",
       "\t CDISCPILOT01 & AE & 01-701-1023 & 1 & E08 & ERYTHEMA                             & ERYTHEMA                 & NA & ERYTHEMA                             & NA & ... & N & N & N & N & N & 2012-08-27 & 2012-08-07 & 2012-08-30 &  3 & 26\\\\\n",
       "\t CDISCPILOT01 & AE & 01-701-1023 & 2 & E09 & ERYTHEMA                             & LOCALIZED ERYTHEMA       & NA & ERYTHEMA                             & NA & ... & N & N & N & N & N & 2012-08-27 & 2012-08-07 & NA         &  3 & NA\\\\\n",
       "\\end{tabular}\n"
      ],
      "text/markdown": [
       "\n",
       "A tibble: 6 x 35\n",
       "\n",
       "| STUDYID &lt;chr&gt; | DOMAIN &lt;chr&gt; | USUBJID &lt;chr&gt; | AESEQ &lt;dbl&gt; | AESPID &lt;chr&gt; | AETERM &lt;chr&gt; | AELLT &lt;chr&gt; | AELLTCD &lt;dbl&gt; | AEDECOD &lt;chr&gt; | AEPTCD &lt;dbl&gt; | ... ... | AESDISAB &lt;chr&gt; | AESDTH &lt;chr&gt; | AESHOSP &lt;chr&gt; | AESLIFE &lt;chr&gt; | AESOD &lt;chr&gt; | AEDTC &lt;chr&gt; | AESTDTC &lt;chr&gt; | AEENDTC &lt;chr&gt; | AESTDY &lt;dbl&gt; | AEENDY &lt;dbl&gt; |\n",
       "|---|---|---|---|---|---|---|---|---|---|---|---|---|---|---|---|---|---|---|---|---|\n",
       "| CDISCPILOT01 | AE | 01-701-1015 | 1 | E07 | APPLICATION SITE ERYTHEMA            | APPLICATION SITE REDNESS | NA | APPLICATION SITE ERYTHEMA            | NA | ... | N | N | N | N | N | 2014-01-16 | 2014-01-03 | NA         |  2 | NA |\n",
       "| CDISCPILOT01 | AE | 01-701-1015 | 2 | E08 | APPLICATION SITE PRURITUS            | APPLICATION SITE ITCHING | NA | APPLICATION SITE PRURITUS            | NA | ... | N | N | N | N | N | 2014-01-16 | 2014-01-03 | NA         |  2 | NA |\n",
       "| CDISCPILOT01 | AE | 01-701-1015 | 3 | E06 | DIARRHOEA                            | DIARRHEA                 | NA | DIARRHOEA                            | NA | ... | N | N | N | N | N | 2014-01-16 | 2014-01-09 | 2014-01-11 |  8 | 10 |\n",
       "| CDISCPILOT01 | AE | 01-701-1023 | 3 | E10 | ATRIOVENTRICULAR BLOCK SECOND DEGREE | AV BLOCK SECOND DEGREE   | NA | ATRIOVENTRICULAR BLOCK SECOND DEGREE | NA | ... | N | N | N | N | N | 2012-08-27 | 2012-08-26 | NA         | 22 | NA |\n",
       "| CDISCPILOT01 | AE | 01-701-1023 | 1 | E08 | ERYTHEMA                             | ERYTHEMA                 | NA | ERYTHEMA                             | NA | ... | N | N | N | N | N | 2012-08-27 | 2012-08-07 | 2012-08-30 |  3 | 26 |\n",
       "| CDISCPILOT01 | AE | 01-701-1023 | 2 | E09 | ERYTHEMA                             | LOCALIZED ERYTHEMA       | NA | ERYTHEMA                             | NA | ... | N | N | N | N | N | 2012-08-27 | 2012-08-07 | NA         |  3 | NA |\n",
       "\n"
      ],
      "text/plain": [
       "  STUDYID      DOMAIN USUBJID     AESEQ AESPID\n",
       "1 CDISCPILOT01 AE     01-701-1015 1     E07   \n",
       "2 CDISCPILOT01 AE     01-701-1015 2     E08   \n",
       "3 CDISCPILOT01 AE     01-701-1015 3     E06   \n",
       "4 CDISCPILOT01 AE     01-701-1023 3     E10   \n",
       "5 CDISCPILOT01 AE     01-701-1023 1     E08   \n",
       "6 CDISCPILOT01 AE     01-701-1023 2     E09   \n",
       "  AETERM                               AELLT                    AELLTCD\n",
       "1 APPLICATION SITE ERYTHEMA            APPLICATION SITE REDNESS NA     \n",
       "2 APPLICATION SITE PRURITUS            APPLICATION SITE ITCHING NA     \n",
       "3 DIARRHOEA                            DIARRHEA                 NA     \n",
       "4 ATRIOVENTRICULAR BLOCK SECOND DEGREE AV BLOCK SECOND DEGREE   NA     \n",
       "5 ERYTHEMA                             ERYTHEMA                 NA     \n",
       "6 ERYTHEMA                             LOCALIZED ERYTHEMA       NA     \n",
       "  AEDECOD                              AEPTCD ... AESDISAB AESDTH AESHOSP\n",
       "1 APPLICATION SITE ERYTHEMA            NA     ... N        N      N      \n",
       "2 APPLICATION SITE PRURITUS            NA     ... N        N      N      \n",
       "3 DIARRHOEA                            NA     ... N        N      N      \n",
       "4 ATRIOVENTRICULAR BLOCK SECOND DEGREE NA     ... N        N      N      \n",
       "5 ERYTHEMA                             NA     ... N        N      N      \n",
       "6 ERYTHEMA                             NA     ... N        N      N      \n",
       "  AESLIFE AESOD AEDTC      AESTDTC    AEENDTC    AESTDY AEENDY\n",
       "1 N       N     2014-01-16 2014-01-03 NA          2     NA    \n",
       "2 N       N     2014-01-16 2014-01-03 NA          2     NA    \n",
       "3 N       N     2014-01-16 2014-01-09 2014-01-11  8     10    \n",
       "4 N       N     2012-08-27 2012-08-26 NA         22     NA    \n",
       "5 N       N     2012-08-27 2012-08-07 2012-08-30  3     26    \n",
       "6 N       N     2012-08-27 2012-08-07 NA          3     NA    "
      ]
     },
     "metadata": {},
     "output_type": "display_data"
    }
   ],
   "source": [
    "# Load example SDTM DM (Demographics) dataset\n",
    "dm = pharmaversesdtm::dm\n",
    "head(dm)\n",
    "\n",
    "# Load example SDTM AE (Adverse Events) dataset\n",
    "ae = pharmaversesdtm::ae\n",
    "head(ae)\n"
   ]
  },
  {
   "cell_type": "code",
   "execution_count": null,
   "id": "0aa3225b",
   "metadata": {
    "vscode": {
     "languageId": "r"
    }
   },
   "outputs": [
    {
     "data": {
      "text/html": [
       "<table class=\"dataframe\">\n",
       "<caption>A tibble: 6 x 41</caption>\n",
       "<thead>\n",
       "\t<tr><th scope=col>STUDYID</th><th scope=col>DOMAIN</th><th scope=col>USUBJID</th><th scope=col>AESEQ</th><th scope=col>AESPID</th><th scope=col>AETERM</th><th scope=col>AELLT</th><th scope=col>AELLTCD</th><th scope=col>AEDECOD</th><th scope=col>AEPTCD</th><th scope=col>...</th><th scope=col>AESTDTC</th><th scope=col>AEENDTC</th><th scope=col>AESTDY</th><th scope=col>AEENDY</th><th scope=col>AGE</th><th scope=col>SEX</th><th scope=col>RACE</th><th scope=col>TRTEMFL</th><th scope=col>ASEV</th><th scope=col>ADY</th></tr>\n",
       "\t<tr><th scope=col>&lt;chr&gt;</th><th scope=col>&lt;chr&gt;</th><th scope=col>&lt;chr&gt;</th><th scope=col>&lt;dbl&gt;</th><th scope=col>&lt;chr&gt;</th><th scope=col>&lt;chr&gt;</th><th scope=col>&lt;chr&gt;</th><th scope=col>&lt;dbl&gt;</th><th scope=col>&lt;chr&gt;</th><th scope=col>&lt;dbl&gt;</th><th scope=col>...</th><th scope=col>&lt;chr&gt;</th><th scope=col>&lt;chr&gt;</th><th scope=col>&lt;dbl&gt;</th><th scope=col>&lt;dbl&gt;</th><th scope=col>&lt;dbl&gt;</th><th scope=col>&lt;chr&gt;</th><th scope=col>&lt;chr&gt;</th><th scope=col>&lt;chr&gt;</th><th scope=col>&lt;chr&gt;</th><th scope=col>&lt;int&gt;</th></tr>\n",
       "</thead>\n",
       "<tbody>\n",
       "\t<tr><td>CDISCPILOT01</td><td>AE</td><td>01-701-1015</td><td>1</td><td>E07</td><td>APPLICATION SITE ERYTHEMA           </td><td>APPLICATION SITE REDNESS</td><td>NA</td><td>APPLICATION SITE ERYTHEMA           </td><td>NA</td><td>...</td><td>2014-01-03</td><td>NA        </td><td> 2</td><td>NA</td><td>63</td><td>F</td><td>WHITE</td><td>Y</td><td>SEVERE  </td><td> 74</td></tr>\n",
       "\t<tr><td>CDISCPILOT01</td><td>AE</td><td>01-701-1015</td><td>2</td><td>E08</td><td>APPLICATION SITE PRURITUS           </td><td>APPLICATION SITE ITCHING</td><td>NA</td><td>APPLICATION SITE PRURITUS           </td><td>NA</td><td>...</td><td>2014-01-03</td><td>NA        </td><td> 2</td><td>NA</td><td>63</td><td>F</td><td>WHITE</td><td>Y</td><td>MILD    </td><td>100</td></tr>\n",
       "\t<tr><td>CDISCPILOT01</td><td>AE</td><td>01-701-1015</td><td>3</td><td>E06</td><td>DIARRHOEA                           </td><td>DIARRHEA                </td><td>NA</td><td>DIARRHOEA                           </td><td>NA</td><td>...</td><td>2014-01-09</td><td>2014-01-11</td><td> 8</td><td>10</td><td>63</td><td>F</td><td>WHITE</td><td>Y</td><td>SEVERE  </td><td> 38</td></tr>\n",
       "\t<tr><td>CDISCPILOT01</td><td>AE</td><td>01-701-1023</td><td>3</td><td>E10</td><td>ATRIOVENTRICULAR BLOCK SECOND DEGREE</td><td>AV BLOCK SECOND DEGREE  </td><td>NA</td><td>ATRIOVENTRICULAR BLOCK SECOND DEGREE</td><td>NA</td><td>...</td><td>2012-08-26</td><td>NA        </td><td>22</td><td>NA</td><td>64</td><td>M</td><td>WHITE</td><td>Y</td><td>MODERATE</td><td> 87</td></tr>\n",
       "\t<tr><td>CDISCPILOT01</td><td>AE</td><td>01-701-1023</td><td>1</td><td>E08</td><td>ERYTHEMA                            </td><td>ERYTHEMA                </td><td>NA</td><td>ERYTHEMA                            </td><td>NA</td><td>...</td><td>2012-08-07</td><td>2012-08-30</td><td> 3</td><td>26</td><td>64</td><td>M</td><td>WHITE</td><td>Y</td><td>SEVERE  </td><td>100</td></tr>\n",
       "\t<tr><td>CDISCPILOT01</td><td>AE</td><td>01-701-1023</td><td>2</td><td>E09</td><td>ERYTHEMA                            </td><td>LOCALIZED ERYTHEMA      </td><td>NA</td><td>ERYTHEMA                            </td><td>NA</td><td>...</td><td>2012-08-07</td><td>NA        </td><td> 3</td><td>NA</td><td>64</td><td>M</td><td>WHITE</td><td>Y</td><td>SEVERE  </td><td> 77</td></tr>\n",
       "</tbody>\n",
       "</table>\n"
      ],
      "text/latex": [
       "A tibble: 6 x 41\n",
       "\\begin{tabular}{lllllllllllllllllllll}\n",
       " STUDYID & DOMAIN & USUBJID & AESEQ & AESPID & AETERM & AELLT & AELLTCD & AEDECOD & AEPTCD & ... & AESTDTC & AEENDTC & AESTDY & AEENDY & AGE & SEX & RACE & TRTEMFL & ASEV & ADY\\\\\n",
       " <chr> & <chr> & <chr> & <dbl> & <chr> & <chr> & <chr> & <dbl> & <chr> & <dbl> & ... & <chr> & <chr> & <dbl> & <dbl> & <dbl> & <chr> & <chr> & <chr> & <chr> & <int>\\\\\n",
       "\\hline\n",
       "\t CDISCPILOT01 & AE & 01-701-1015 & 1 & E07 & APPLICATION SITE ERYTHEMA            & APPLICATION SITE REDNESS & NA & APPLICATION SITE ERYTHEMA            & NA & ... & 2014-01-03 & NA         &  2 & NA & 63 & F & WHITE & Y & SEVERE   &  74\\\\\n",
       "\t CDISCPILOT01 & AE & 01-701-1015 & 2 & E08 & APPLICATION SITE PRURITUS            & APPLICATION SITE ITCHING & NA & APPLICATION SITE PRURITUS            & NA & ... & 2014-01-03 & NA         &  2 & NA & 63 & F & WHITE & Y & MILD     & 100\\\\\n",
       "\t CDISCPILOT01 & AE & 01-701-1015 & 3 & E06 & DIARRHOEA                            & DIARRHEA                 & NA & DIARRHOEA                            & NA & ... & 2014-01-09 & 2014-01-11 &  8 & 10 & 63 & F & WHITE & Y & SEVERE   &  38\\\\\n",
       "\t CDISCPILOT01 & AE & 01-701-1023 & 3 & E10 & ATRIOVENTRICULAR BLOCK SECOND DEGREE & AV BLOCK SECOND DEGREE   & NA & ATRIOVENTRICULAR BLOCK SECOND DEGREE & NA & ... & 2012-08-26 & NA         & 22 & NA & 64 & M & WHITE & Y & MODERATE &  87\\\\\n",
       "\t CDISCPILOT01 & AE & 01-701-1023 & 1 & E08 & ERYTHEMA                             & ERYTHEMA                 & NA & ERYTHEMA                             & NA & ... & 2012-08-07 & 2012-08-30 &  3 & 26 & 64 & M & WHITE & Y & SEVERE   & 100\\\\\n",
       "\t CDISCPILOT01 & AE & 01-701-1023 & 2 & E09 & ERYTHEMA                             & LOCALIZED ERYTHEMA       & NA & ERYTHEMA                             & NA & ... & 2012-08-07 & NA         &  3 & NA & 64 & M & WHITE & Y & SEVERE   &  77\\\\\n",
       "\\end{tabular}\n"
      ],
      "text/markdown": [
       "\n",
       "A tibble: 6 x 41\n",
       "\n",
       "| STUDYID &lt;chr&gt; | DOMAIN &lt;chr&gt; | USUBJID &lt;chr&gt; | AESEQ &lt;dbl&gt; | AESPID &lt;chr&gt; | AETERM &lt;chr&gt; | AELLT &lt;chr&gt; | AELLTCD &lt;dbl&gt; | AEDECOD &lt;chr&gt; | AEPTCD &lt;dbl&gt; | ... ... | AESTDTC &lt;chr&gt; | AEENDTC &lt;chr&gt; | AESTDY &lt;dbl&gt; | AEENDY &lt;dbl&gt; | AGE &lt;dbl&gt; | SEX &lt;chr&gt; | RACE &lt;chr&gt; | TRTEMFL &lt;chr&gt; | ASEV &lt;chr&gt; | ADY &lt;int&gt; |\n",
       "|---|---|---|---|---|---|---|---|---|---|---|---|---|---|---|---|---|---|---|---|---|\n",
       "| CDISCPILOT01 | AE | 01-701-1015 | 1 | E07 | APPLICATION SITE ERYTHEMA            | APPLICATION SITE REDNESS | NA | APPLICATION SITE ERYTHEMA            | NA | ... | 2014-01-03 | NA         |  2 | NA | 63 | F | WHITE | Y | SEVERE   |  74 |\n",
       "| CDISCPILOT01 | AE | 01-701-1015 | 2 | E08 | APPLICATION SITE PRURITUS            | APPLICATION SITE ITCHING | NA | APPLICATION SITE PRURITUS            | NA | ... | 2014-01-03 | NA         |  2 | NA | 63 | F | WHITE | Y | MILD     | 100 |\n",
       "| CDISCPILOT01 | AE | 01-701-1015 | 3 | E06 | DIARRHOEA                            | DIARRHEA                 | NA | DIARRHOEA                            | NA | ... | 2014-01-09 | 2014-01-11 |  8 | 10 | 63 | F | WHITE | Y | SEVERE   |  38 |\n",
       "| CDISCPILOT01 | AE | 01-701-1023 | 3 | E10 | ATRIOVENTRICULAR BLOCK SECOND DEGREE | AV BLOCK SECOND DEGREE   | NA | ATRIOVENTRICULAR BLOCK SECOND DEGREE | NA | ... | 2012-08-26 | NA         | 22 | NA | 64 | M | WHITE | Y | MODERATE |  87 |\n",
       "| CDISCPILOT01 | AE | 01-701-1023 | 1 | E08 | ERYTHEMA                             | ERYTHEMA                 | NA | ERYTHEMA                             | NA | ... | 2012-08-07 | 2012-08-30 |  3 | 26 | 64 | M | WHITE | Y | SEVERE   | 100 |\n",
       "| CDISCPILOT01 | AE | 01-701-1023 | 2 | E09 | ERYTHEMA                             | LOCALIZED ERYTHEMA       | NA | ERYTHEMA                             | NA | ... | 2012-08-07 | NA         |  3 | NA | 64 | M | WHITE | Y | SEVERE   |  77 |\n",
       "\n"
      ],
      "text/plain": [
       "  STUDYID      DOMAIN USUBJID     AESEQ AESPID\n",
       "1 CDISCPILOT01 AE     01-701-1015 1     E07   \n",
       "2 CDISCPILOT01 AE     01-701-1015 2     E08   \n",
       "3 CDISCPILOT01 AE     01-701-1015 3     E06   \n",
       "4 CDISCPILOT01 AE     01-701-1023 3     E10   \n",
       "5 CDISCPILOT01 AE     01-701-1023 1     E08   \n",
       "6 CDISCPILOT01 AE     01-701-1023 2     E09   \n",
       "  AETERM                               AELLT                    AELLTCD\n",
       "1 APPLICATION SITE ERYTHEMA            APPLICATION SITE REDNESS NA     \n",
       "2 APPLICATION SITE PRURITUS            APPLICATION SITE ITCHING NA     \n",
       "3 DIARRHOEA                            DIARRHEA                 NA     \n",
       "4 ATRIOVENTRICULAR BLOCK SECOND DEGREE AV BLOCK SECOND DEGREE   NA     \n",
       "5 ERYTHEMA                             ERYTHEMA                 NA     \n",
       "6 ERYTHEMA                             LOCALIZED ERYTHEMA       NA     \n",
       "  AEDECOD                              AEPTCD ... AESTDTC    AEENDTC    AESTDY\n",
       "1 APPLICATION SITE ERYTHEMA            NA     ... 2014-01-03 NA          2    \n",
       "2 APPLICATION SITE PRURITUS            NA     ... 2014-01-03 NA          2    \n",
       "3 DIARRHOEA                            NA     ... 2014-01-09 2014-01-11  8    \n",
       "4 ATRIOVENTRICULAR BLOCK SECOND DEGREE NA     ... 2012-08-26 NA         22    \n",
       "5 ERYTHEMA                             NA     ... 2012-08-07 2012-08-30  3    \n",
       "6 ERYTHEMA                             NA     ... 2012-08-07 NA          3    \n",
       "  AEENDY AGE SEX RACE  TRTEMFL ASEV     ADY\n",
       "1 NA     63  F   WHITE Y       SEVERE    74\n",
       "2 NA     63  F   WHITE Y       MILD     100\n",
       "3 10     63  F   WHITE Y       SEVERE    38\n",
       "4 NA     64  M   WHITE Y       MODERATE  87\n",
       "5 26     64  M   WHITE Y       SEVERE   100\n",
       "6 NA     64  M   WHITE Y       SEVERE    77"
      ]
     },
     "metadata": {},
     "output_type": "display_data"
    }
   ],
   "source": [
    "# ADSL = subject-level analysis dataset\n",
    "adsl = dm %>%\n",
    "  select(STUDYID, USUBJID, AGE, SEX, RACE)\n",
    "\n",
    "# ADAE = analysis of adverse events (join AE with subject-level info)\n",
    "adae = ae %>%\n",
    "  left_join(adsl, by = c(\"STUDYID\", \"USUBJID\")) %>%\n",
    "  mutate(\n",
    "    TRTEMFL = \"Y\",  # assume all subjects treated\n",
    "    ASEV = sample(c(\"MILD\",\"MODERATE\",\"SEVERE\"), n(), replace=TRUE),\n",
    "    ADY = sample(1:100, n(), replace=TRUE)\n",
    "  )\n",
    "\n",
    "head(adae)"
   ]
  },
  {
   "cell_type": "code",
   "execution_count": null,
   "id": "e6ebe321",
   "metadata": {
    "vscode": {
     "languageId": "r"
    }
   },
   "outputs": [],
   "source": []
  }
 ],
 "metadata": {
  "kernelspec": {
   "display_name": "R",
   "language": "R",
   "name": "ir"
  },
  "language_info": {
   "codemirror_mode": "r",
   "file_extension": ".r",
   "mimetype": "text/x-r-source",
   "name": "R",
   "pygments_lexer": "r",
   "version": "4.5.1"
  }
 },
 "nbformat": 4,
 "nbformat_minor": 5
}
